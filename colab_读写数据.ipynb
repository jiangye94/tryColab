{
  "nbformat": 4,
  "nbformat_minor": 0,
  "metadata": {
    "colab": {
      "name": "colab 读写数据.ipynb",
      "version": "0.3.2",
      "views": {},
      "default_view": {},
      "provenance": []
    }
  },
  "cells": [
    {
      "metadata": {
        "id": "SGjZzQUHxgQt",
        "colab_type": "code",
        "colab": {
          "autoexec": {
            "startup": false,
            "wait_interval": 0
          }
        }
      },
      "cell_type": "code",
      "source": [
        "# 安装 PyDrive 操作库，该操作每个 notebook 只需要执行一次\n",
        "!pip install -U -q PyDrive\n",
        "from pydrive.auth import GoogleAuth\n",
        "from pydrive.drive import GoogleDrive\n",
        "from google.colab import auth\n",
        "from oauth2client.client import GoogleCredentials\n",
        "\n",
        "# 授权登录，仅第一次的时候会鉴权\n",
        "auth.authenticate_user()\n",
        "gauth = GoogleAuth()\n",
        "gauth.credentials = GoogleCredentials.get_application_default()\n",
        "drive = GoogleDrive(gauth)\n",
        "\n",
        "file = drive.CreateFile({'id': \"1OC9y_e9rjeCSuUpgAEWEOz1eeKCthdjK\"}) \n",
        "file.GetContentFile('train.csv', \"text/csv\") \n",
        "file = drive.CreateFile({'id': \"1gX9Y1NBP09XhDR71xrVSgwVU2qmWOGYw\"}) \n",
        "file.GetContentFile('test.csv', \"text/csv\") \n",
        "file = drive.CreateFile({'id': \"1wMEo4tcfGWAbl3jg3CoXJ5NGyz0zDi0x\"}) \n",
        "file.GetContentFile('sample_submission.csv', \"text/csv\") "
      ],
      "execution_count": 0,
      "outputs": []
    },
    {
      "metadata": {
        "id": "wrqS2P2_xw6t",
        "colab_type": "code",
        "colab": {
          "autoexec": {
            "startup": false,
            "wait_interval": 0
          },
          "output_extras": [
            {
              "item_id": 1
            }
          ],
          "base_uri": "https://localhost:8080/",
          "height": 103
        },
        "outputId": "619d60f3-edfc-4dfe-ca63-76b6b0d5a2ba",
        "executionInfo": {
          "status": "ok",
          "timestamp": 1521018795047,
          "user_tz": 0,
          "elapsed": 652,
          "user": {
            "displayName": "Ye Jiang",
            "photoUrl": "https://lh3.googleusercontent.com/a/default-user=s128",
            "userId": "112851814997191116321"
          }
        }
      },
      "cell_type": "code",
      "source": [
        "# 列出根目录的所有文件\n",
        "# \"q\" 查询条件教程详见：https://developers.google.com/drive/v2/web/search-parameters\n",
        "file_list = drive.ListFile({'q': \"'root' in parents and trashed=false\"}).GetList()\n",
        "for file1 in file_list:\n",
        "  print('title: %s, id: %s, mimeType: %s' % (file1['title'], file1['id'], file1[\"mimeType\"]))"
      ],
      "execution_count": 2,
      "outputs": [
        {
          "output_type": "stream",
          "text": [
            "title: train.csv, id: 1OC9y_e9rjeCSuUpgAEWEOz1eeKCthdjK, mimeType: text/csv\n",
            "title: sample_submission.csv, id: 1wMEo4tcfGWAbl3jg3CoXJ5NGyz0zDi0x, mimeType: text/csv\n",
            "title: kernel, id: 1egC_xKc_mnwHU-uVLopkUnpLFSLBKft_, mimeType: application/vnd.google-apps.folder\n",
            "title: test.csv, id: 1gX9Y1NBP09XhDR71xrVSgwVU2qmWOGYw, mimeType: text/csv\n",
            "title: Colab Notebooks, id: 1A40SXwEucsKIBePL09CESl3IBgd1vVPE, mimeType: application/vnd.google-apps.folder\n"
          ],
          "name": "stdout"
        }
      ]
    },
    {
      "metadata": {
        "id": "vVtmBFbUyEPX",
        "colab_type": "code",
        "colab": {
          "autoexec": {
            "startup": false,
            "wait_interval": 0
          }
        }
      },
      "cell_type": "code",
      "source": [
        "import pandas as pd\n",
        "list_classes = [\"toxic\", \"severe_toxic\", \"obscene\", \"threat\", \"insult\", \"identity_hate\"]\n",
        "\n",
        "submission = pd.read_csv(\"sample_submission.csv\")\n",
        "submission[list_classes] = 0.5\n",
        "submission.to_csv(\"sample.csv\", index=False)"
      ],
      "execution_count": 0,
      "outputs": []
    },
    {
      "metadata": {
        "id": "ydCmitpyx4-p",
        "colab_type": "code",
        "colab": {
          "autoexec": {
            "startup": false,
            "wait_interval": 0
          }
        }
      },
      "cell_type": "code",
      "source": [
        "from google.colab import files\n",
        "files.download('sample.csv')"
      ],
      "execution_count": 0,
      "outputs": []
    },
    {
      "metadata": {
        "id": "8F5wPXLEytJf",
        "colab_type": "code",
        "colab": {
          "autoexec": {
            "startup": false,
            "wait_interval": 0
          }
        }
      },
      "cell_type": "code",
      "source": [
        ""
      ],
      "execution_count": 0,
      "outputs": []
    }
  ]
}